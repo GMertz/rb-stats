{
 "cells": [
  {
   "cell_type": "code",
   "execution_count": null,
   "metadata": {
    "collapsed": false
   },
   "outputs": [],
   "source": [
    "import mesos_rb as m\n",
    "import time\n",
    "from matplotlib import *\n",
    "from pylab import *\n",
    "from numpy import *\n",
    "\n",
    "\n",
    "%matplotlib inline"
   ]
  },
  {
   "cell_type": "code",
   "execution_count": null,
   "metadata": {
    "collapsed": true
   },
   "outputs": [],
   "source": [
    "import mesos_rb as m\n",
    "import time\n",
    "from matplotlib import *\n",
    "import matplotlib.pylab as pylab\n",
    "from pylab import *\n",
    "from numpy import *\n",
    "\n",
    "\n",
    "%matplotlib inline"
   ]
  },
  {
   "cell_type": "markdown",
   "metadata": {},
   "source": [
    "Fetch review data from ReviewBoard\n",
    "---"
   ]
  },
  {
   "cell_type": "code",
   "execution_count": null,
   "metadata": {
    "collapsed": false
   },
   "outputs": [],
   "source": [
    "# Cut Off Date\n",
    "CUTOFF_DAYS = 60\n",
    "\n",
    "# set stat equal to either 'discarded', 'pending', or 'submitted'\n",
    "stat='submitted'\n",
    "\n",
    "reviews = m.fetch_reviews(stat,CUTOFF_DAYS)"
   ]
  },
  {
   "cell_type": "markdown",
   "metadata": {},
   "source": [
    "Review of Defined Type Per User\n",
    "---"
   ]
  },
  {
   "cell_type": "code",
   "execution_count": null,
   "metadata": {
    "collapsed": false,
    "scrolled": true
   },
   "outputs": [],
   "source": [
    "# Fetch the data.\n",
    "per_user = m.reviews_per_user(reviews)\n",
    "chart = m.convert_to_chart(per_user[0])\n",
    "\n",
    "# Set up the chart.\n",
    "font = {'size' : 30}\n",
    "rc('font', **font)\n",
    "pyplot.figure(figsize = (20.0, 60.0))\n",
    "pylab.grid()\n",
    "pylab.title(\"{first}{stat} Reviews Per Submitter\".format(first=stat[0].upper(), stat=stat[1:]))\n",
    "\n",
    "# Populate the chart.\n",
    "y_positions = arange(len(chart[0]))\n",
    "plot = pyplot.barh(y_positions, chart[1], .8, color = 'blue')\n",
    "pyplot.ylim([0, y_positions.size+1.5])\n",
    "pyplot.legend((plot,),(\"Reviews Per User\",))\n",
    "\n",
    "# Set Y-axis labels.\n",
    "yt = pyplot.yticks(y_positions+.4, chart[0])\n",
    "\n",
    "plot_values=[]\n",
    "\n",
    "for value in chart[1]:\n",
    "    plot_values.append(value)\n",
    "\n",
    "def autolabel(rects,values):\n",
    "    # attach number values to graph\n",
    "    i = 0\n",
    "    for rect in rects:\n",
    "        length = values[i]\n",
    "        height = rect.get_y()\n",
    "        pyplot.text(float(values[i]+.1), rect.get_y()+.3, '{length}'.format(length=length),)\n",
    "        i += 1\n",
    "        \n",
    "autolabel(plot,plot_values)"
   ]
  },
  {
   "cell_type": "markdown",
   "metadata": {},
   "source": [
    "Reviews of Defined Type Per Reviewer\n",
    "---"
   ]
  },
  {
   "cell_type": "code",
   "execution_count": null,
   "metadata": {
    "collapsed": false,
    "scrolled": true
   },
   "outputs": [],
   "source": [
    "# Fetch the data\n",
    "per_shepherd = m.reviews_per_shepherd(reviews)\n",
    "chart = m.convert_to_chart(per_shepherd)\n",
    "\n",
    "# Set up the chart.\n",
    "font = {'size' : 30}\n",
    "rc('font', **font)\n",
    "pyplot.figure(figsize = (20.0, 60.0))\n",
    "pylab.grid()\n",
    "pylab.title(\"{first}{stat} Reviews Per Reviewer\".format(first=stat[0].upper(), stat=stat[1:]))\n",
    "\n",
    "# Populate the chart.\n",
    "y_positions = arange(len(chart[0]))\n",
    "plot = pyplot.barh(y_positions, chart[1], .8, color = 'green')\n",
    "pyplot.ylim([0, y_positions.size+1.5])\n",
    "pyplot.legend((plot,),(\"Reviews Per Reviewer\",))\n",
    "\n",
    "# Set Y-axis labels.\n",
    "yt = pyplot.yticks(y_positions+.4, chart[0])\n",
    "plot_values=[]\n",
    "\n",
    "for value in chart[1]:\n",
    "    plot_values.append(value)\n",
    "\n",
    "def autolabel(rects,values):\n",
    "    # attach number values to graph\n",
    "    i = 0\n",
    "    for rect in rects:\n",
    "        length = values[i]\n",
    "        height = rect.get_y()\n",
    "        pyplot.text(float(values[i]+.1), rect.get_y()+.3, '{length}'.format(length=length),)\n",
    "        i += 1\n",
    "        \n",
    "autolabel(plot,plot_values)"
   ]
  },
  {
   "cell_type": "markdown",
   "metadata": {
    "collapsed": true
   },
   "source": [
    "Average Resolved Issues Per Submitted Review for Users\n",
    "---"
   ]
  },
  {
   "cell_type": "code",
   "execution_count": null,
   "metadata": {
    "collapsed": false,
    "scrolled": true
   },
   "outputs": [],
   "source": [
    "# Cut Off Date, change value of CUTOFF_DAYS if you want to redefine the cut off for the next fetch\n",
    "CUTOFF_DAYS = CUTOFF_DAYS\n",
    "\n",
    "# Fetch the data\n",
    "chart = m.fetch_avg(CUTOFF_DAYS)\n",
    "\n",
    "# Set up the chart\n",
    "font = {'size' : 30}\n",
    "rc('font', **font)\n",
    "pyplot.figure(figsize = (20.0, 60.0))\n",
    "pylab.grid()\n",
    "pylab.title(\"{first}{stat} Average Resolved Issues Per Submitted Review for Users\".format(first=stat[0].upper(), stat=stat[1:]))\n",
    "\n",
    "# Populate the chart.\n",
    "y_positions = arange(len(chart[0]))\n",
    "plot = pyplot.barh(y_positions, chart[1], .8, color = 'red')\n",
    "pyplot.ylim([0, y_positions.size+1.5])\n",
    "pyplot.legend((plot,),(\"Average Resolved Issues Per User\",))\n",
    "\n",
    "# Set Y-axis labels.\n",
    "yt = pyplot.yticks(y_positions+.4, chart[0])\n",
    "plot_values=[]\n",
    "\n",
    "for value in chart[1]:\n",
    "    plot_values.append(value)\n",
    "\n",
    "def autolabel(rects,values):\n",
    "    # attach number values to graph\n",
    "    index = 0\n",
    "    for rect in rects:\n",
    "        length = values[index]\n",
    "        height = rect.get_y()\n",
    "        pyplot.text(float(values[index]+.1), rect.get_y()+.3, '{length}'.format(length=length),)\n",
    "        index += 1\n",
    "        \n",
    "autolabel(plot,plot_values)"
   ]
  },
  {
   "cell_type": "code",
   "execution_count": null,
   "metadata": {
    "collapsed": true
   },
   "outputs": [],
   "source": []
  }
 ],
 "metadata": {
  "celltoolbar": "Edit Metadata",
  "kernelspec": {
   "display_name": "Python 2",
   "language": "python",
   "name": "python2"
  },
  "language_info": {
   "codemirror_mode": {
    "name": "ipython",
    "version": 2
   },
   "file_extension": ".py",
   "mimetype": "text/x-python",
   "name": "python",
   "nbconvert_exporter": "python",
   "pygments_lexer": "ipython2",
   "version": "2.7.10"
  }
 },
 "nbformat": 4,
 "nbformat_minor": 0
}
